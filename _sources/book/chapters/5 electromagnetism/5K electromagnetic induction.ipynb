{
 "cells": [
  {
   "cell_type": "markdown",
   "id": "af34c41d",
   "metadata": {},
   "source": [
    "```{contents}\n",
    "```\n",
    "\n",
    "## 5K\tElectromagnetic Induction\n",
    "\n",
    "### 5K10\tInduced Currents and Forces\n",
    "### 5K20\tEddy Currents\n",
    "### 5K30\tTransformers\n",
    "### 5K40\tMotors and Generators"
   ]
  }
 ],
 "metadata": {
  "jupytext": {
   "text_representation": {
    "extension": ".md",
    "format_name": "myst",
    "format_version": 0.13,
    "jupytext_version": "1.11.5"
   }
  },
  "kernelspec": {
   "display_name": "Python 3",
   "language": "python",
   "name": "python3"
  },
  "source_map": [
   12
  ]
 },
 "nbformat": 4,
 "nbformat_minor": 5
}