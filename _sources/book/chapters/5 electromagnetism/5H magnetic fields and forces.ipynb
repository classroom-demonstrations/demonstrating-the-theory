{
 "cells": [
  {
   "cell_type": "markdown",
   "id": "36ce62ce",
   "metadata": {},
   "source": [
    "```{contents}\n",
    "```\n",
    "\n",
    "## 5H\tMagnetic Fields and Forces\n",
    "\n",
    "### 5H10\tMagnetic Fields\n",
    "### 5H15\tFields and Currents\n",
    "### 5H20\tForces on Magnets\n",
    "### 5H25\tMagnet/Electromagnet Interactions\n",
    "### 5H30\tForce on Moving Charges\n",
    "### 5H40\tForce on Current in Wires\n",
    "### 5H50\tTorques on Coils"
   ]
  }
 ],
 "metadata": {
  "jupytext": {
   "text_representation": {
    "extension": ".md",
    "format_name": "myst",
    "format_version": 0.13,
    "jupytext_version": "1.11.5"
   }
  },
  "kernelspec": {
   "display_name": "Python 3",
   "language": "python",
   "name": "python3"
  },
  "source_map": [
   12
  ]
 },
 "nbformat": 4,
 "nbformat_minor": 5
}