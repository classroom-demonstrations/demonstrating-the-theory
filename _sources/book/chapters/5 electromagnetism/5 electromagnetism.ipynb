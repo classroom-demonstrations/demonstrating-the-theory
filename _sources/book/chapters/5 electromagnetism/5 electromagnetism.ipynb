{
 "cells": [
  {
   "cell_type": "markdown",
   "id": "8e3f390d",
   "metadata": {},
   "source": [
    "```{contents}\n",
    "```\n",
    "# 5. Electromagnetism\n",
    "\n",
    "## 5A\tElectrostatics\n",
    "## 5B\tElectric Fields and Potential\n",
    "## 5C\tCapacitance\n",
    "## 5D\tResistance\n",
    "## 5E\tElectromotive Force and Current\n",
    "## 5F\tDC Circuits\n",
    "## 5G\tMagnetic Materials\n",
    "## 5H\tMagnetic Fields and Forces\n",
    "## 5J\tInductance\n",
    "## 5K\tElectromagnetic Induction\n",
    "## 5L\tAC Circuits\n",
    "## 5M\tSemiconductors and Tubes\n",
    "## 5N\tElectromagnetic Radiation"
   ]
  }
 ],
 "metadata": {
  "jupytext": {
   "text_representation": {
    "extension": ".md",
    "format_name": "myst",
    "format_version": 0.13,
    "jupytext_version": "1.11.5"
   }
  },
  "kernelspec": {
   "display_name": "Python 3",
   "language": "python",
   "name": "python3"
  },
  "source_map": [
   12
  ]
 },
 "nbformat": 4,
 "nbformat_minor": 5
}