{
 "cells": [
  {
   "cell_type": "markdown",
   "id": "859e4c98",
   "metadata": {},
   "source": [
    "```{contents}\n",
    "```\n",
    "\n",
    "## 5L\tAC Circuits\n",
    "\n",
    "### 5L10\tImpedance\n",
    "### 5L20\tLCR Circuits - AC\n",
    "### 5L30\tFilters and Rectifiers"
   ]
  }
 ],
 "metadata": {
  "jupytext": {
   "text_representation": {
    "extension": ".md",
    "format_name": "myst",
    "format_version": 0.13,
    "jupytext_version": "1.11.5"
   }
  },
  "kernelspec": {
   "display_name": "Python 3",
   "language": "python",
   "name": "python3"
  },
  "source_map": [
   12
  ]
 },
 "nbformat": 4,
 "nbformat_minor": 5
}