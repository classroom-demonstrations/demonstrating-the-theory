{
 "cells": [
  {
   "cell_type": "markdown",
   "id": "c7a4ef3b",
   "metadata": {},
   "source": [
    "```{contents}\n",
    "```\n",
    "\n",
    "## 5A\tElectrostatics\n",
    "\n",
    "### 5A10\tProducing Static Charge\n",
    "### 5A20\tCoulomb's Law\n",
    "### 5A22\tElectrostatic Meters\n",
    "### 5A30\tConductors and Insulators\n",
    "### 5A40\tInduced Charge\n",
    "### 5A50\tElectrostatic Machines"
   ]
  }
 ],
 "metadata": {
  "jupytext": {
   "text_representation": {
    "extension": ".md",
    "format_name": "myst",
    "format_version": 0.13,
    "jupytext_version": "1.11.5"
   }
  },
  "kernelspec": {
   "display_name": "Python 3",
   "language": "python",
   "name": "python3"
  },
  "source_map": [
   12
  ]
 },
 "nbformat": 4,
 "nbformat_minor": 5
}