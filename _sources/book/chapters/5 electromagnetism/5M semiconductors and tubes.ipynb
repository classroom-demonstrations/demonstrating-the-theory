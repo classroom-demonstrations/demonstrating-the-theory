{
 "cells": [
  {
   "cell_type": "markdown",
   "id": "cdb6ab1f",
   "metadata": {},
   "source": [
    "```{contents}\n",
    "```\n",
    "\n",
    "## 5M\tSemiconductors and Tubes\n",
    "\n",
    "### 5M10\tSemiconductors\n",
    "### 5M20\tTubes"
   ]
  }
 ],
 "metadata": {
  "jupytext": {
   "text_representation": {
    "extension": ".md",
    "format_name": "myst",
    "format_version": 0.13,
    "jupytext_version": "1.11.5"
   }
  },
  "kernelspec": {
   "display_name": "Python 3",
   "language": "python",
   "name": "python3"
  },
  "source_map": [
   12
  ]
 },
 "nbformat": 4,
 "nbformat_minor": 5
}