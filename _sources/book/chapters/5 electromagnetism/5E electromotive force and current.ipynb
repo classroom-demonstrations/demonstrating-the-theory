{
 "cells": [
  {
   "cell_type": "markdown",
   "id": "4d58aef9",
   "metadata": {},
   "source": [
    "```{contents}\n",
    "```\n",
    "\n",
    "## 5E\tElectromotive Force and Current\n",
    "\n",
    "### 5E20\tElectrolysis\n",
    "### 5E30\tPlating\n",
    "### 5E40\tCells and Batteries\n",
    "### 5E50\tThermoelectricity\n",
    "### 5E60\tPiezoelectricity"
   ]
  }
 ],
 "metadata": {
  "jupytext": {
   "text_representation": {
    "extension": ".md",
    "format_name": "myst",
    "format_version": 0.13,
    "jupytext_version": "1.11.5"
   }
  },
  "kernelspec": {
   "display_name": "Python 3",
   "language": "python",
   "name": "python3"
  },
  "source_map": [
   12
  ]
 },
 "nbformat": 4,
 "nbformat_minor": 5
}