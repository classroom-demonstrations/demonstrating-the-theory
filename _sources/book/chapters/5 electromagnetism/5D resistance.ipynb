{
 "cells": [
  {
   "cell_type": "markdown",
   "id": "07517833",
   "metadata": {},
   "source": [
    "```{contents}\n",
    "```\n",
    "\n",
    "## 5D\tResistance\n",
    "\n",
    "### 5D10\tResistance Characteristics\n",
    "### 5D20\tResistivity and Temperature\n",
    "### 5D30\tConduction in Solutions\n",
    "### 5D40\tConduction in Gases"
   ]
  }
 ],
 "metadata": {
  "jupytext": {
   "text_representation": {
    "extension": ".md",
    "format_name": "myst",
    "format_version": 0.13,
    "jupytext_version": "1.11.5"
   }
  },
  "kernelspec": {
   "display_name": "Python 3",
   "language": "python",
   "name": "python3"
  },
  "source_map": [
   12
  ]
 },
 "nbformat": 4,
 "nbformat_minor": 5
}