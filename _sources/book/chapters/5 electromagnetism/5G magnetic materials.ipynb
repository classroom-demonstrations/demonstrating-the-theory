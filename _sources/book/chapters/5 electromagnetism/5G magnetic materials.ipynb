{
 "cells": [
  {
   "cell_type": "markdown",
   "id": "a6f2c29a",
   "metadata": {},
   "source": [
    "```{contents}\n",
    "```\n",
    "\n",
    "## 5G\tMagnetic Materials\n",
    "\n",
    "### 5G10\tMagnets\n",
    "### 5G20\tMagnet Domains & Magnetization\n",
    "### 5G30\tParamagnetism and Diamagnetism\n",
    "### 5G40\tHysteresis\n",
    "### 5G45\tMagnetostriction and Magnetoresistance\n",
    "### 5G50\tTemperature and Magnetism"
   ]
  }
 ],
 "metadata": {
  "jupytext": {
   "text_representation": {
    "extension": ".md",
    "format_name": "myst",
    "format_version": 0.13,
    "jupytext_version": "1.11.5"
   }
  },
  "kernelspec": {
   "display_name": "Python 3",
   "language": "python",
   "name": "python3"
  },
  "source_map": [
   12
  ]
 },
 "nbformat": 4,
 "nbformat_minor": 5
}