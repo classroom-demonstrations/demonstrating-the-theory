{
 "cells": [
  {
   "cell_type": "markdown",
   "id": "d82c4c02",
   "metadata": {},
   "source": [
    "```{contents}\n",
    "```\n",
    "\n",
    "## 5N\tElectromagnetic Radiation\n",
    "\n",
    "### 5N10\tTransmission Lines and Antennas\n",
    "### 5N20\tTesla Coil\n",
    "### 5N30\tElectromagnetic Spectrum"
   ]
  }
 ],
 "metadata": {
  "jupytext": {
   "text_representation": {
    "extension": ".md",
    "format_name": "myst",
    "format_version": 0.13,
    "jupytext_version": "1.11.5"
   }
  },
  "kernelspec": {
   "display_name": "Python 3",
   "language": "python",
   "name": "python3"
  },
  "source_map": [
   12
  ]
 },
 "nbformat": 4,
 "nbformat_minor": 5
}