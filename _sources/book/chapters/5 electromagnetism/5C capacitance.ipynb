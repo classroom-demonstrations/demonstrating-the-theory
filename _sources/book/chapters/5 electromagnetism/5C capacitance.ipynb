{
 "cells": [
  {
   "cell_type": "markdown",
   "id": "ea77dabd",
   "metadata": {},
   "source": [
    "```{contents}\n",
    "```\n",
    "\n",
    "## 5C\tCapacitance\n",
    "\n",
    "### 5C10\tCapacitors\n",
    "### 5C20\tDielectric\n",
    "### 5C30\tEnergy Stored in a Capacitor"
   ]
  }
 ],
 "metadata": {
  "jupytext": {
   "text_representation": {
    "extension": ".md",
    "format_name": "myst",
    "format_version": 0.13,
    "jupytext_version": "1.11.5"
   }
  },
  "kernelspec": {
   "display_name": "Python 3",
   "language": "python",
   "name": "python3"
  },
  "source_map": [
   12
  ]
 },
 "nbformat": 4,
 "nbformat_minor": 5
}