{
 "cells": [
  {
   "cell_type": "markdown",
   "id": "46fd640b",
   "metadata": {},
   "source": [
    "```{contents}\n",
    "```\n",
    "\n",
    "## 5J\tInductance\n",
    "\n",
    "### 5J10\tSelf Inductance\n",
    "### 5J20\tLR Circuits\n",
    "### 5J30\tRLC Circuits - DC"
   ]
  }
 ],
 "metadata": {
  "jupytext": {
   "text_representation": {
    "extension": ".md",
    "format_name": "myst",
    "format_version": 0.13,
    "jupytext_version": "1.11.5"
   }
  },
  "kernelspec": {
   "display_name": "Python 3",
   "language": "python",
   "name": "python3"
  },
  "source_map": [
   12
  ]
 },
 "nbformat": 4,
 "nbformat_minor": 5
}