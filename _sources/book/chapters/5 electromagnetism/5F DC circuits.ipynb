{
 "cells": [
  {
   "cell_type": "markdown",
   "id": "2bec59ef",
   "metadata": {},
   "source": [
    "```{contents}\n",
    "```\n",
    "\n",
    "## 5F\tDC Circuits\n",
    "\n",
    "### 5F10\tOhm's Law\n",
    "### 5F15\tPower and Energy\n",
    "### 5F20\tCircuit Analysis\n",
    "### 5F30\tRC Circuits\n",
    "### 5F40\tInstruments"
   ]
  }
 ],
 "metadata": {
  "jupytext": {
   "text_representation": {
    "extension": ".md",
    "format_name": "myst",
    "format_version": 0.13,
    "jupytext_version": "1.11.5"
   }
  },
  "kernelspec": {
   "display_name": "Python 3",
   "language": "python",
   "name": "python3"
  },
  "source_map": [
   12
  ]
 },
 "nbformat": 4,
 "nbformat_minor": 5
}