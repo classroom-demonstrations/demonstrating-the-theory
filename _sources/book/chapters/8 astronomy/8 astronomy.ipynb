{
 "cells": [
  {
   "cell_type": "markdown",
   "id": "5d202128",
   "metadata": {},
   "source": [
    "```{contents}\n",
    "```\n",
    "\n",
    "# 8. Astronomy\n",
    "\n",
    "Whether you write your book's content in Jupyter Notebooks (`.ipynb`) or\n",
    "in regular markdown files (`.md`), you'll write in the same flavor of markdown\n",
    "called **MyST Markdown**.\n",
    "\n",
    "## 8A\tPlanetary Astronomy\n",
    "### 8A05\tHistorical Astronomy\n",
    "### 8A10\tSolar System Mechanics\n",
    "### 8A20\tEarth - Moon Mechanics\n",
    "### 8A30\tViews From Earth\n",
    "### 8A35\tViews From Earth - 2\n",
    "### 8A40\tPlanetary Properties: Globes, Hemispheres, & Maps\n",
    "### 8A50\tPlanetary Properties - 2: The Planets\n",
    "### 8A60\tPlanetary Properties - 3: Planetoids, Minor Objects\n",
    "### 8A70\tPlanetary Properties - 4: Planetary Characteristics\n",
    "### 8A80\tPlanetary Properties - 5: Comets And The Search For Life\n",
    "\t\n",
    "## 8B\tStellar Astronomy\n",
    "### 8B10\tThe Sun\n",
    "### 8B20\tStellar Spectra\n",
    "### 8B30\tStellar Evolution\n",
    "### 8B40\tBlack Holes\n",
    "### 8B50\tStellar Miscellaneous\n",
    "\t\n",
    "## 8C\tCosmology\n",
    "### 8C10\tModels of The Universe\n",
    "### 8C20\tGravitational Effects\n",
    "\t\n",
    "## 8D\tMiscellaneous\n",
    "### 8D10\tMiscellaneous Astronomy\n",
    "### 8D20\tTelescopes\n",
    "### 8D30\tAstronomical Instruments\n",
    "\t\n",
    "## 8E\tAstronomy Teaching Techniques\n",
    "### 8E30\tTechniques and Projects"
   ]
  }
 ],
 "metadata": {
  "jupytext": {
   "text_representation": {
    "extension": ".md",
    "format_name": "myst",
    "format_version": 0.13,
    "jupytext_version": "1.11.5"
   }
  },
  "kernelspec": {
   "display_name": "Python 3",
   "language": "python",
   "name": "python3"
  },
  "source_map": [
   12
  ]
 },
 "nbformat": 4,
 "nbformat_minor": 5
}