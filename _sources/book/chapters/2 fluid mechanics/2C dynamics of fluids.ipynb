{
 "cells": [
  {
   "cell_type": "markdown",
   "id": "91d02def",
   "metadata": {},
   "source": [
    "```{contents}\n",
    "```\n",
    "\n",
    "## 2C\tDynamics of Fluids\n",
    "\n",
    "### 2C10\tFlow Rate\n",
    "### 2C20\tForces in Moving Fluids\n",
    "### 2C30\tViscosity\n",
    "### 2C40\tTurbulent and Streamline Flow\n",
    "### 2C50\tVortices\n",
    "### 2C60\tNon Newtonian Fluids"
   ]
  }
 ],
 "metadata": {
  "jupytext": {
   "text_representation": {
    "extension": ".md",
    "format_name": "myst",
    "format_version": 0.13,
    "jupytext_version": "1.11.5"
   }
  },
  "kernelspec": {
   "display_name": "Python 3",
   "language": "python",
   "name": "python3"
  },
  "source_map": [
   12
  ]
 },
 "nbformat": 4,
 "nbformat_minor": 5
}