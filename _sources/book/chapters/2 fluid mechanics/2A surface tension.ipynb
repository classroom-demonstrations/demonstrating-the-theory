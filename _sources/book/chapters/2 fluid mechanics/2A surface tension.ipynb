{
 "cells": [
  {
   "cell_type": "markdown",
   "id": "c2bc2953",
   "metadata": {},
   "source": [
    "```{contents}\n",
    "```\n",
    "\n",
    "## 2A\tSurface Tension\n",
    "\n",
    "### 2A10\tForce of Surface Tension\n",
    "### 2A15\tMinimal Surface\n",
    "### 2A20\tCapillary Action\n",
    "### 2A30\tSurface Tension Propulsion"
   ]
  }
 ],
 "metadata": {
  "jupytext": {
   "text_representation": {
    "extension": ".md",
    "format_name": "myst",
    "format_version": 0.13,
    "jupytext_version": "1.11.5"
   }
  },
  "kernelspec": {
   "display_name": "Python 3",
   "language": "python",
   "name": "python3"
  },
  "source_map": [
   12
  ]
 },
 "nbformat": 4,
 "nbformat_minor": 5
}