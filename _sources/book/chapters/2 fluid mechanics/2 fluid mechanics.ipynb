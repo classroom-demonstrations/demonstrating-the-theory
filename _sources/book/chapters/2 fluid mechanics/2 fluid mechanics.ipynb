{
 "cells": [
  {
   "cell_type": "markdown",
   "id": "3b17ede0",
   "metadata": {},
   "source": [
    "```{contents}\n",
    "```\n",
    "\n",
    "# 2. Fluid Mechanics\n",
    "\n",
    "Whether you write your book's content in Jupyter Notebooks (`.ipynb`) or\n",
    "in regular markdown files (`.md`), you'll write in the same flavor of markdown\n",
    "called **MyST Markdown**.\n",
    "\n",
    "## 2A\tSurface Tension\n",
    "### 2A10\tForce of Surface Tension\n",
    "### 2A15\tMinimal Surface\n",
    "### 2A20\tCapillary Action\n",
    "### 2A30\tSurface Tension Propulsion\n",
    "\t\n",
    "## 2B\tStatics of Fluids\n",
    "### 2B20\tStatic Pressure\n",
    "### 2B30\tAtmospheric Pressure\n",
    "### 2B35\tMeasuring Pressure\n",
    "### 2B40\tDensity and Buoyancy\n",
    "### 2B60\tSiphons, Fountains, Pumps\n",
    "\t\n",
    "## 2C\tDynamics of Fluids\n",
    "### 2C10\tFlow Rate\n",
    "### 2C20\tForces in Moving Fluids\n",
    "### 2C30\tViscosity\n",
    "### 2C40\tTurbulent and Streamline Flow\n",
    "### 2C50\tVortices\n",
    "### 2C60\tNon Newtonian Fluids"
   ]
  }
 ],
 "metadata": {
  "jupytext": {
   "text_representation": {
    "extension": ".md",
    "format_name": "myst",
    "format_version": 0.13,
    "jupytext_version": "1.11.5"
   }
  },
  "kernelspec": {
   "display_name": "Python 3",
   "language": "python",
   "name": "python3"
  },
  "source_map": [
   12
  ]
 },
 "nbformat": 4,
 "nbformat_minor": 5
}