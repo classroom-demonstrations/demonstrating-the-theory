{
 "cells": [
  {
   "cell_type": "markdown",
   "id": "1b1b8403",
   "metadata": {},
   "source": [
    "```{contents}\n",
    "```\n",
    "\n",
    "## 2B\tStatics of Fluids\n",
    "\n",
    "### 2B20\tStatic Pressure\n",
    "### 2B30\tAtmospheric Pressure\n",
    "### 2B35\tMeasuring Pressure\n",
    "### 2B40\tDensity and Buoyancy\n",
    "### 2B60\tSiphons, Fountains, Pumps"
   ]
  }
 ],
 "metadata": {
  "jupytext": {
   "text_representation": {
    "extension": ".md",
    "format_name": "myst",
    "format_version": 0.13,
    "jupytext_version": "1.11.5"
   }
  },
  "kernelspec": {
   "display_name": "Python 3",
   "language": "python",
   "name": "python3"
  },
  "source_map": [
   12
  ]
 },
 "nbformat": 4,
 "nbformat_minor": 5
}