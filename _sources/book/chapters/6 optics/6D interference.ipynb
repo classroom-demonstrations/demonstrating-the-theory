{
 "cells": [
  {
   "cell_type": "markdown",
   "id": "b1b2b7ab",
   "metadata": {},
   "source": [
    "```{contents}\n",
    "```\n",
    "\n",
    "## 6D\tInterference\n",
    "\n",
    "### 6D10\tInterference From Two Sources\n",
    "### 6D15\tInterference of Polarized Light\n",
    "### 6D20\tGratings\n",
    "### 6D30\tThin Films\n",
    "### 6D40\tInterferometers"
   ]
  }
 ],
 "metadata": {
  "jupytext": {
   "text_representation": {
    "extension": ".md",
    "format_name": "myst",
    "format_version": 0.13,
    "jupytext_version": "1.11.5"
   }
  },
  "kernelspec": {
   "display_name": "Python 3",
   "language": "python",
   "name": "python3"
  },
  "source_map": [
   12
  ]
 },
 "nbformat": 4,
 "nbformat_minor": 5
}