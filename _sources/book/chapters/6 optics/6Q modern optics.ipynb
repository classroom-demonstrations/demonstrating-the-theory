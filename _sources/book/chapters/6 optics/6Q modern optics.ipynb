{
 "cells": [
  {
   "cell_type": "markdown",
   "id": "b9230a9e",
   "metadata": {},
   "source": [
    "```{contents}\n",
    "```\n",
    "\n",
    "## 6Q\tModern Optics\n",
    "\n",
    "### 6Q10\tHolography\n",
    "### 6Q20\tPhysical Optics"
   ]
  }
 ],
 "metadata": {
  "jupytext": {
   "text_representation": {
    "extension": ".md",
    "format_name": "myst",
    "format_version": 0.13,
    "jupytext_version": "1.11.5"
   }
  },
  "kernelspec": {
   "display_name": "Python 3",
   "language": "python",
   "name": "python3"
  },
  "source_map": [
   12
  ]
 },
 "nbformat": 4,
 "nbformat_minor": 5
}