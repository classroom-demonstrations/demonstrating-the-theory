{
 "cells": [
  {
   "cell_type": "markdown",
   "id": "3bf6d18a",
   "metadata": {},
   "source": [
    "```{contents}\n",
    "```\n",
    "\n",
    "# 6. Optics\n",
    "\n",
    "Whether you write your book's content in Jupyter Notebooks (`.ipynb`) or\n",
    "in regular markdown files (`.md`), you'll write in the same flavor of markdown\n",
    "called **MyST Markdown**.\n",
    "\n",
    "## 6A\tGeometrical Optics\n",
    "### 6A01\tSpeed of Light\n",
    "### 6A02\tStraight Line Propagation\n",
    "### 6A10\tReflection From Flat Surfaces\n",
    "### 6A20\tReflection from Curved Surfaces\n",
    "### 6A40\tRefractive Index\n",
    "### 6A42\tRefraction at Flat Surfaces\n",
    "### 6A44\tTotal Internal Reflection\n",
    "### 6A46\tRainbow\n",
    "### 6A60\tThin Lens\n",
    "### 6A61\tPinhole\n",
    "### 6A65\tThick Lens\n",
    "### 6A70\tOptical Instruments\n",
    "\t\n",
    "## 6B\tPhotometry\n",
    "### 6B10\tLuminosity\n",
    "### 6B30\tRadation Pressure\n",
    "### 6B40\tBlackbodies\n",
    "\t\n",
    "## 6C\tDiffraction\n",
    "### 6C10\tDiffraction Through One Slit\n",
    "### 6C20\tDiffraction Around Objects\n",
    "\t\n",
    "## 6D\tInterference\n",
    "### 6D10\tInterference From Two Sources\n",
    "### 6D15\tInterference of Polarized Light\n",
    "### 6D20\tGratings\n",
    "### 6D30\tThin Films\n",
    "### 6D40\tInterferometers\n",
    "\t\n",
    "## 6F\tColor\n",
    "### 6F10\tSynthesis and Analysis of Color\n",
    "### 6F30\tDispersion\n",
    "### 6F40\tScattering\n",
    "\t\n",
    "## 6H\tPolarisation\n",
    "### 6H10\tDichroic Polarization\n",
    "### 6H20\tPolarization by Reflection\n",
    "### 6H30\tCircular Polarization\n",
    "### 6H35\tBirefringence\n",
    "### 6H50\tPolarization by Scattering\n",
    "\t\n",
    "## 6J\tThe Eye\n",
    "### 6J10\tThe Eye\n",
    "### 6J11\tPhysiology\n",
    "\t\n",
    "## 6Q\tModern Optics\n",
    "### 6Q10\tHolography\n",
    "### 6Q20\tPhysical Optics"
   ]
  }
 ],
 "metadata": {
  "jupytext": {
   "text_representation": {
    "extension": ".md",
    "format_name": "myst",
    "format_version": 0.13,
    "jupytext_version": "1.11.5"
   }
  },
  "kernelspec": {
   "display_name": "Python 3",
   "language": "python",
   "name": "python3"
  },
  "source_map": [
   12
  ]
 },
 "nbformat": 4,
 "nbformat_minor": 5
}