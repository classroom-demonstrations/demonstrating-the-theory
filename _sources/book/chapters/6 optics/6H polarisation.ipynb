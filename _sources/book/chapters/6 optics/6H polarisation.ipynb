{
 "cells": [
  {
   "cell_type": "markdown",
   "id": "00bde494",
   "metadata": {},
   "source": [
    "```{contents}\n",
    "```\n",
    "\n",
    "## 6H\tPolarisation\n",
    "\n",
    "### 6H10\tDichroic Polarization\n",
    "### 6H20\tPolarization by Reflection\n",
    "### 6H30\tCircular Polarization\n",
    "### 6H35\tBirefringence\n",
    "### 6H50\tPolarization by Scattering"
   ]
  }
 ],
 "metadata": {
  "jupytext": {
   "text_representation": {
    "extension": ".md",
    "format_name": "myst",
    "format_version": 0.13,
    "jupytext_version": "1.11.5"
   }
  },
  "kernelspec": {
   "display_name": "Python 3",
   "language": "python",
   "name": "python3"
  },
  "source_map": [
   12
  ]
 },
 "nbformat": 4,
 "nbformat_minor": 5
}