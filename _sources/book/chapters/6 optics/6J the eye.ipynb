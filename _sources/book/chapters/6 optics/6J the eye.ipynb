{
 "cells": [
  {
   "cell_type": "markdown",
   "id": "9e4a6b9c",
   "metadata": {},
   "source": [
    "```{contents}\n",
    "```\n",
    "\n",
    "## 6J\tThe Eye\n",
    "\n",
    "### 6J10\tThe Eye\n",
    "### 6J11\tPhysiology"
   ]
  }
 ],
 "metadata": {
  "jupytext": {
   "text_representation": {
    "extension": ".md",
    "format_name": "myst",
    "format_version": 0.13,
    "jupytext_version": "1.11.5"
   }
  },
  "kernelspec": {
   "display_name": "Python 3",
   "language": "python",
   "name": "python3"
  },
  "source_map": [
   12
  ]
 },
 "nbformat": 4,
 "nbformat_minor": 5
}