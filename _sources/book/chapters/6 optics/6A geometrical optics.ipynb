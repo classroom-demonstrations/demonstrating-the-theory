{
 "cells": [
  {
   "cell_type": "markdown",
   "id": "b294851c",
   "metadata": {},
   "source": [
    "```{contents}\n",
    "```\n",
    "\n",
    "## 6A\tGeometrical Optics\n",
    "\n",
    "### 6A01\tSpeed of Light\n",
    "### 6A02\tStraight Line Propagation\n",
    "### 6A10\tReflection From Flat Surfaces\n",
    "### 6A20\tReflection from Curved Surfaces\n",
    "### 6A40\tRefractive Index\n",
    "### 6A42\tRefraction at Flat Surfaces\n",
    "### 6A44\tTotal Internal Reflection\n",
    "### 6A46\tRainbow\n",
    "### 6A60\tThin Lens\n",
    "### 6A61\tPinhole\n",
    "### 6A65\tThick Lens\n",
    "### 6A70\tOptical Instruments"
   ]
  }
 ],
 "metadata": {
  "jupytext": {
   "text_representation": {
    "extension": ".md",
    "format_name": "myst",
    "format_version": 0.13,
    "jupytext_version": "1.11.5"
   }
  },
  "kernelspec": {
   "display_name": "Python 3",
   "language": "python",
   "name": "python3"
  },
  "source_map": [
   12
  ]
 },
 "nbformat": 4,
 "nbformat_minor": 5
}