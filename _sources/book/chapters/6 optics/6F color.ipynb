{
 "cells": [
  {
   "cell_type": "markdown",
   "id": "e78074d7",
   "metadata": {},
   "source": [
    "```{contents}\n",
    "```\n",
    "\n",
    "## 6F\tColor\n",
    "\n",
    "### 6F10\tSynthesis and Analysis of Color\n",
    "### 6F30\tDispersion\n",
    "### 6F40\tScattering"
   ]
  }
 ],
 "metadata": {
  "jupytext": {
   "text_representation": {
    "extension": ".md",
    "format_name": "myst",
    "format_version": 0.13,
    "jupytext_version": "1.11.5"
   }
  },
  "kernelspec": {
   "display_name": "Python 3",
   "language": "python",
   "name": "python3"
  },
  "source_map": [
   12
  ]
 },
 "nbformat": 4,
 "nbformat_minor": 5
}