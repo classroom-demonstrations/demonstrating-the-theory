{
 "cells": [
  {
   "cell_type": "markdown",
   "id": "3456daa8",
   "metadata": {},
   "source": [
    "```{contents}\n",
    "```\n",
    "\n",
    "## 1D\tMotion in two Dimensions\n",
    "\n",
    "### 1D10\tDisplacement in Two Dimensions\n",
    "### 1D15\tVelocity, Position, and Acceleration\n",
    "\n",
    "1D15.45\t\t\t\tBrachistochrone\tN/A\t\tTwo marbles rolling along separate tracks, one track is horizontal, the other one is curved.\n",
    "\n",
    "### 1D40\tMotion of the Center of Mass\n",
    "\n",
    "1D40.03\t\t\t\t[Student's Centre of Mass](https://www.de-monstrare.nl/pdf/Students%27%20centre%20of%20mass.pdf)\n",
    "<br/>\n",
    "1D40.01\t\t\t\t[Centre of Mass](https://www.de-monstrare.nl/pdf/Centre%20of%20mass.pdf)\n",
    "See [Collegerama 2022 recording TN1612TU_14](https://collegerama.tudelft.nl/Mediasite/Channel/as-bsc-tn/watch/64cb5e5c7d2546fb9f465306d41a128b1d)\n",
    "<br/>\n",
    "1D40.02\t\t\t\t[Centre of Rotation](https://www.de-monstrare.nl/pdf/Centre%20of%20ratation.pdf)\n",
    "See [Collegerama 2022 recording TN1612TU_18](https://collegerama.tudelft.nl/Mediasite/Channel/as-bsc-tn/watch/30a014274f6a49bfbd89af1bd43cc8f31d)\n",
    "\n",
    "### 1D50\tCentral Forces\n",
    "\n",
    "1D50.01\t\t \t\t[Going Round in Circles](https://www.de-monstrare.nl/pdf/Going%20round%20in%20circles.pdf)\n",
    "<br/>\n",
    "1D50.02\t\t\t\t[Conical Pendulum](https://www.de-monstrare.nl/pdf/Conical%20pendulum.pdf)\n",
    "<br/>\n",
    "1D50.03\t\t\t\t[Centripetal Force](https://www.de-monstrare.nl/pdf/Centripetal%20force.pdf)\n",
    "<br/>\n",
    "1D50.04\t\t\t\t[Force Field](https://www.de-monstrare.nl/pdf/Force%20field.pdf)\n",
    "\n",
    "### 1D52\tDeformation by Central Forces\n",
    "### 1D55\tCentrifugal Escape\n",
    "### 1D60\tProjectile Motion"
   ]
  }
 ],
 "metadata": {
  "jupytext": {
   "text_representation": {
    "extension": ".md",
    "format_name": "myst",
    "format_version": 0.13,
    "jupytext_version": "1.11.5"
   }
  },
  "kernelspec": {
   "display_name": "Python 3",
   "language": "python",
   "name": "python3"
  },
  "source_map": [
   12
  ]
 },
 "nbformat": 4,
 "nbformat_minor": 5
}