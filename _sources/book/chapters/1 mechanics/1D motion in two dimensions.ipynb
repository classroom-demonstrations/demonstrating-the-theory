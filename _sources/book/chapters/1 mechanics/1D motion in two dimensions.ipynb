{
 "cells": [
  {
   "cell_type": "markdown",
   "id": "10f437f6",
   "metadata": {},
   "source": [
    "```{contents}\n",
    "```\n",
    "\n",
    "## 1D\tMotion in two Dimensions\n",
    "\n",
    "### 1D10\tDisplacement in Two Dimensions\n",
    "### 1D15\tVelocity, Position, and Acceleration\n",
    "### 1D40\tMotion of the Center of Mass\n",
    "### 1D50\tCentral Forces\n",
    "### 1D52\tDeformation by Central Forces\n",
    "### 1D55\tCentrifugal Escape\n",
    "### 1D60\tProjectile Motion"
   ]
  }
 ],
 "metadata": {
  "jupytext": {
   "text_representation": {
    "extension": ".md",
    "format_name": "myst",
    "format_version": 0.13,
    "jupytext_version": "1.11.5"
   }
  },
  "kernelspec": {
   "display_name": "Python 3",
   "language": "python",
   "name": "python3"
  },
  "source_map": [
   12
  ]
 },
 "nbformat": 4,
 "nbformat_minor": 5
}