{
 "cells": [
  {
   "cell_type": "markdown",
   "id": "9f82edb5",
   "metadata": {},
   "source": [
    "```{contents}\n",
    "```\n",
    "\n",
    "## 1E\tRelative Motion\n",
    "\n",
    "### 1E10\tMoving Reference Frames\n",
    "### 1E20\tRotating Reference Frames\n",
    "### 1E30\tCoriolis Effect"
   ]
  }
 ],
 "metadata": {
  "jupytext": {
   "text_representation": {
    "extension": ".md",
    "format_name": "myst",
    "format_version": 0.13,
    "jupytext_version": "1.11.5"
   }
  },
  "kernelspec": {
   "display_name": "Python 3",
   "language": "python",
   "name": "python3"
  },
  "source_map": [
   12
  ]
 },
 "nbformat": 4,
 "nbformat_minor": 5
}