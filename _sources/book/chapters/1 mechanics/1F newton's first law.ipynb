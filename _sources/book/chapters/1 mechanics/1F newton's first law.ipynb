{
 "cells": [
  {
   "cell_type": "markdown",
   "id": "116e802c",
   "metadata": {},
   "source": [
    "```{contents}\n",
    "```\n",
    "\n",
    "## 1F\tNewton's First Law\n",
    "\n",
    "### 1F10\tMeasuring Inertia\n",
    "### 1F20\tInertia of Rest\n",
    "### 1F30\tInertia of Motion"
   ]
  }
 ],
 "metadata": {
  "jupytext": {
   "text_representation": {
    "extension": ".md",
    "format_name": "myst",
    "format_version": 0.13,
    "jupytext_version": "1.11.5"
   }
  },
  "kernelspec": {
   "display_name": "Python 3",
   "language": "python",
   "name": "python3"
  },
  "source_map": [
   12
  ]
 },
 "nbformat": 4,
 "nbformat_minor": 5
}