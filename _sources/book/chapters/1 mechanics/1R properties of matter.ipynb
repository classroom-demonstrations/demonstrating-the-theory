{
 "cells": [
  {
   "cell_type": "markdown",
   "id": "cb996b06",
   "metadata": {},
   "source": [
    "```{contents}\n",
    "```\n",
    "\n",
    "## 1R\tProperties of Matter\n",
    "\n",
    "### 1R10\tHooke's Law\n",
    "### 1R20\tTensile and Compressive Stress\n",
    "### 1R30\tShear Stress\n",
    "### 1R40\tCoefficient of Restitution\n",
    "### 1R50\tCrystal Structure\n",
    "\n",
    "<hr/>"
   ]
  }
 ],
 "metadata": {
  "jupytext": {
   "text_representation": {
    "extension": ".md",
    "format_name": "myst",
    "format_version": 0.13,
    "jupytext_version": "1.11.5"
   }
  },
  "kernelspec": {
   "display_name": "Python 3",
   "language": "python",
   "name": "python3"
  },
  "source_map": [
   12
  ]
 },
 "nbformat": 4,
 "nbformat_minor": 5
}