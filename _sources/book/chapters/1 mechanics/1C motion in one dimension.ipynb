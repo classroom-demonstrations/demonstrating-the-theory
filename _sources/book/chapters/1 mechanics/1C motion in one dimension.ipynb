{
 "cells": [
  {
   "cell_type": "markdown",
   "id": "200434f1",
   "metadata": {},
   "source": [
    "```{contents}\n",
    "```\n",
    "\n",
    "## 1C\tMotion in one Dimension\n",
    "\n",
    "### 1C10\tVelocity\n",
    "### 1C20\tUniform Acceleration\n",
    "### 1C30\tMeasuring g"
   ]
  }
 ],
 "metadata": {
  "jupytext": {
   "text_representation": {
    "extension": ".md",
    "format_name": "myst",
    "format_version": 0.13,
    "jupytext_version": "1.11.5"
   }
  },
  "kernelspec": {
   "display_name": "Python 3",
   "language": "python",
   "name": "python3"
  },
  "source_map": [
   12
  ]
 },
 "nbformat": 4,
 "nbformat_minor": 5
}