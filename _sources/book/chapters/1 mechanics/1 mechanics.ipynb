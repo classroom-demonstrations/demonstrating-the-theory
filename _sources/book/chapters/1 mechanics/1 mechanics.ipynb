{
 "cells": [
  {
   "cell_type": "markdown",
   "id": "4d2e4358",
   "metadata": {},
   "source": [
    "```{contents}\n",
    "```\n",
    "\n",
    "# 1. Mechanics\n",
    "\n",
    "Whether you write your book's content in Jupyter Notebooks (`.ipynb`) or\n",
    "in regular markdown files (`.md`), you'll write in the same flavor of markdown\n",
    "called **MyST Markdown**.\n",
    "\n",
    "## 1A\tMeasurement\n",
    "## 1C\tMotion in one Dimension\n",
    "## 1D\tMotion in two Dimensions\n",
    "## 1E\tRelative Motion\n",
    "## 1F\tNewton's First Law\n",
    "## 1G\tNewton's Second Law\n",
    "## 1H\tNewton's Third Law\n",
    "## 1J\tStatics of Rigid Bodies\n",
    "## 1K\tApplications of Newton's Laws\n",
    "## 1L\tGravity\n",
    "## 1M\tWork and Energy\n",
    "## 1N\tLinear Momentum and Collisions\n",
    "## 1Q\tRotational Dynamics\n",
    "## 1R\tProperties of Matter"
   ]
  }
 ],
 "metadata": {
  "jupytext": {
   "text_representation": {
    "extension": ".md",
    "format_name": "myst",
    "format_version": 0.13,
    "jupytext_version": "1.11.5"
   }
  },
  "kernelspec": {
   "display_name": "Python 3",
   "language": "python",
   "name": "python3"
  },
  "source_map": [
   12
  ]
 },
 "nbformat": 4,
 "nbformat_minor": 5
}