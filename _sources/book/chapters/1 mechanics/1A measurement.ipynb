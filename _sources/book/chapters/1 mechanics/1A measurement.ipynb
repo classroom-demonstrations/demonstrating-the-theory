{
 "cells": [
  {
   "cell_type": "markdown",
   "id": "f847b662",
   "metadata": {},
   "source": [
    "```{contents}\n",
    "```\n",
    "\n",
    "## 1A\tMeasurement\n",
    "\n",
    "### 1A10\tBasic Units\n",
    "### 1A20\tError and Accuracy\n",
    "\n",
    "1A20.01\t1R10.01\t \t\t[Hooke's Law](https://www.de-monstrare.nl/pdf/Hooke%27s%20law.pdf)\n",
    "<br/>\n",
    "\n",
    "<p>![Error analysis 1](/book/chapters/1 mechanics/1A/pictures/error_analysis.jpg)</p>\n",
    "<br/>\n",
    "<p>![Error analysis 2](/1A/pictures/error_analysis.jpg)</p>\n",
    "<br/>\n",
    "<p>![Error analysis 3](https://classroom-demonstrations.github.io/demonstrating-the-theory/book/chapters/1%20mechanics/1A/pictures/error_analysis.jpg)</p>\n",
    "<br/>\n",
    "<p>![Error analysis 4](https://classroom-demonstrations.github.io/demonstrating-the-theory/book/chapters/1 mechanics/1A/pictures/error_analysis.jpg)</p>\n",
    "<br/>\n",
    "<p><img src=\"/1A/pictures/error_analysis.jpg\" alt=\"alt text 5\" title=\"image Title 5\" width=\"150\"/></p>\n",
    "<br/>\n",
    "<p><img src=\"https://classroom-demonstrations.github.io/demonstrating-the-theory/book/chapters/1 mechanics/1A/pictures/error_analysis.jpg\" alt=\"alt text 6\" title=\"image Title 6\" width=\"150\"/></p>\n",
    "<br/>\n",
    "<p><img src=\"https://classroom-demonstrations.github.io/demonstrating-the-theory/book/chapters/1 mechanics/1A/pictures/error_analysis.jpg\" /></p>\n",
    "<br/>\n",
    "[https://www.google.com/search?q=my%20query](https://www.google.com/search?q=my%20query)\n",
    "<br/>\n",
    "1A20.02\t\t\t\tError Analysis (1)\tN/A\t\tLet a ruler slip through your fingers and catch it to determine your reaction time.\n",
    "<br/>\n",
    "1A20.03\t\t\t\tError Analysis (2)\tN/A\t\tDetermine the uncertainty in the measurement of the on-time of a flashing light by measuring the time that the bulb is on ten times.\n",
    "\n",
    "### 1A30\tCoordinate Systems\n",
    "### 1A40\tVectors\n",
    "### 1A50\tMath Topics\n",
    "### 1A60\tScaling"
   ]
  }
 ],
 "metadata": {
  "jupytext": {
   "text_representation": {
    "extension": ".md",
    "format_name": "myst",
    "format_version": 0.13,
    "jupytext_version": "1.11.5"
   }
  },
  "kernelspec": {
   "display_name": "Python 3",
   "language": "python",
   "name": "python3"
  },
  "source_map": [
   12
  ]
 },
 "nbformat": 4,
 "nbformat_minor": 5
}