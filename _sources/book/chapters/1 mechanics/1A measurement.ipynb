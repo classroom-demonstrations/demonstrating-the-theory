{
 "cells": [
  {
   "cell_type": "code",
   "execution_count": 1,
   "id": "6134779b",
   "metadata": {
    "tags": [
     "tag1",
     "tag2",
     "tag3"
    ]
   },
   "outputs": [
    {
     "ename": "NameError",
     "evalue": "name 'your' is not defined",
     "output_type": "error",
     "traceback": [
      "\u001b[0;31m---------------------------------------------------------------------------\u001b[0m",
      "\u001b[0;31mNameError\u001b[0m                                 Traceback (most recent call last)",
      "Cell \u001b[0;32mIn[1], line 1\u001b[0m\n\u001b[0;32m----> 1\u001b[0m \u001b[43myour\u001b[49m\u001b[38;5;241m-\u001b[39mcode\n",
      "\u001b[0;31mNameError\u001b[0m: name 'your' is not defined"
     ]
    }
   ],
   "source": [
    "your-code"
   ]
  },
  {
   "cell_type": "markdown",
   "id": "4a668ac1",
   "metadata": {},
   "source": [
    "```{contents}\n",
    "```\n",
    "\n",
    "## 1A\tMeasurement\n",
    "\n",
    "### 1A10\tBasic Units\n",
    "### 1A20\tError and Accuracy\n",
    "\n",
    "1A20.01\t1R10.01\t \t\t[Hooke's Law](https://www.de-monstrare.nl/pdf/Hooke%27s%20law.pdf)\n",
    "<br/>\n",
    "\n",
    "<p>![Error analysis 1](./1A/pictures/error_analysis.jpg)</p>\n",
    "<br/>\n",
    "<p>![Error analysis 2](1A/pictures/error_analysis.jpg)</p>\n",
    "<br/>\n",
    "<p>![Error analysis 3](https://classroom-demonstrations.github.io/demonstrating-the-theory/book/chapters/1%20mechanics/1A/pictures/error_analysis.jpg)</p>\n",
    "<br/> \n",
    "<p>![Error analysis 4](https://classroom-demonstrations.github.io/demonstrating-the-theory/book/chapters/1 mechanics/1A/pictures/error_analysis.jpg)</p>\n",
    "<br/>\n",
    "<p>![Error analysis 5](./demonstrating-the-theory/book/chapters/1 mechanics/1A/pictures/error_analysis.jpg)</p>\n",
    "<br/>\n",
    "<p><img src=\"master/book/chapters/1 mechanics/1A/pictures/error_analysis.jpg\" alt=\"alt text 6\" title=\"image Title 6\" width=\"150\"/></p>\n",
    "<br/>\n",
    "==================================================\n",
    "<br/>\n",
    "<img src=\"1A/pictures/error_analysis.JPG\" alt=\"alt text 7\" title=\"image Title 7\" width=\"150\"/>\n",
    "<br/>\n",
    "===================================================\n",
    "<br/>\n",
    "<p><img src=\"https://github.com/classroom-demonstrations/demonstrating-the-theory/_build/html/book/chapters/1 mechanics/1A/pictures/error_analysis.jpg\" alt=\"alt text 8\" title=\"image Title 8\" width=\"150\"/></p>\n",
    "<br/>\n",
    "<p><img src=\"https://classroom-demonstrations.github.io/demonstrating-the-theory/book/chapters/1 mechanics/1A/pictures/error_analysis.jpg\" alt=\"alt text 9\" title=\"image Title 9\" width=\"150\"/></p>\n",
    "<br/>\n",
    "<p><img src=\"https://classroom-demonstrations.github.io/demonstrating-the-theory/book/chapters/1%20mechanics/1A/pictures/error_analysis.jpg\"/></p>\n",
    "<br/>\n",
    "\n",
    "<br/>\n",
    "[https://www.google.com/search?q=my%20query](https://www.google.com/search?q=my%20query)\n",
    "<br/>\n",
    "1A20.02\t\t\t\tError Analysis (1)\tN/A\t\tLet a ruler slip through your fingers and catch it to determine your reaction time.\n",
    "<br/>\n",
    "1A20.03\t\t\t\tError Analysis (2)\tN/A\t\tDetermine the uncertainty in the measurement of the on-time of a flashing light by measuring the time that the bulb is on ten times.\n",
    "\n",
    "### 1A30\tCoordinate Systems\n",
    "### 1A40\tVectors\n",
    "### 1A50\tMath Topics\n",
    "### 1A60\tScaling"
   ]
  }
 ],
 "metadata": {
  "jupytext": {
   "text_representation": {
    "extension": ".md",
    "format_name": "myst",
    "format_version": 0.13,
    "jupytext_version": "1.11.5"
   }
  },
  "kernelspec": {
   "display_name": "Python 3",
   "language": "python",
   "name": "python3"
  },
  "language_info": {
   "codemirror_mode": {
    "name": "ipython",
    "version": 3
   },
   "file_extension": ".py",
   "mimetype": "text/x-python",
   "name": "python",
   "nbconvert_exporter": "python",
   "pygments_lexer": "ipython3",
   "version": "3.11.3"
  },
  "source_map": [
   14,
   17
  ]
 },
 "nbformat": 4,
 "nbformat_minor": 5
}