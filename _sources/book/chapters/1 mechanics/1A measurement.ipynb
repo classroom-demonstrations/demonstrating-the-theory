{
 "cells": [
  {
   "cell_type": "markdown",
   "id": "51f320d0",
   "metadata": {},
   "source": [
    "```{contents}\n",
    "```\n",
    "\n",
    "## 1A\tMeasurement\n",
    "\n",
    "### 1A10\tBasic Units\n",
    "### 1A20\tError and Accuracy\n",
    "### 1A30\tCoordinate Systems\n",
    "### 1A40\tVectors\n",
    "### 1A50\tMath Topics\n",
    "### 1A60\tScaling"
   ]
  }
 ],
 "metadata": {
  "jupytext": {
   "text_representation": {
    "extension": ".md",
    "format_name": "myst",
    "format_version": 0.13,
    "jupytext_version": "1.11.5"
   }
  },
  "kernelspec": {
   "display_name": "Python 3",
   "language": "python",
   "name": "python3"
  },
  "source_map": [
   12
  ]
 },
 "nbformat": 4,
 "nbformat_minor": 5
}