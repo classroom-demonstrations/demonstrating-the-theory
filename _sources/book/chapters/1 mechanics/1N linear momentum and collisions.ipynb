{
 "cells": [
  {
   "cell_type": "markdown",
   "id": "309e4da6",
   "metadata": {},
   "source": [
    "```{contents}\n",
    "```\n",
    "\n",
    "## 1N\tLinear Momentum and Collisions\n",
    "\n",
    "### 1N10\tImpulse and Thrust\n",
    "### 1N20\tConservation of Linear Momentum\n",
    "### 1N21\tMass and Momentum Transfer\n",
    "### 1N22\tRockets\n",
    "### 1N30\tCollisions in One Dimension\n",
    "### 1N40\tCollisions in Two Dimensions"
   ]
  }
 ],
 "metadata": {
  "jupytext": {
   "text_representation": {
    "extension": ".md",
    "format_name": "myst",
    "format_version": 0.13,
    "jupytext_version": "1.11.5"
   }
  },
  "kernelspec": {
   "display_name": "Python 3",
   "language": "python",
   "name": "python3"
  },
  "source_map": [
   12
  ]
 },
 "nbformat": 4,
 "nbformat_minor": 5
}