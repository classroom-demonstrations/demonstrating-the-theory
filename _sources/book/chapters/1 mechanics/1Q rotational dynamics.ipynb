{
 "cells": [
  {
   "cell_type": "markdown",
   "id": "977e6993",
   "metadata": {},
   "source": [
    "```{contents}\n",
    "```\n",
    "\n",
    "## 1Q\tRotational Dynamics\n",
    "\n",
    "### 1Q10\tMoment of Inertia\n",
    "### 1Q20\tRotational Energy\n",
    "### 1Q30\tTransfer of Angular Momentum\n",
    "### 1Q40\tConservation of Angular Momentum\n",
    "### 1Q50\tGyros\n",
    "### 1Q60\tRotational Stability"
   ]
  }
 ],
 "metadata": {
  "jupytext": {
   "text_representation": {
    "extension": ".md",
    "format_name": "myst",
    "format_version": 0.13,
    "jupytext_version": "1.11.5"
   }
  },
  "kernelspec": {
   "display_name": "Python 3",
   "language": "python",
   "name": "python3"
  },
  "source_map": [
   12
  ]
 },
 "nbformat": 4,
 "nbformat_minor": 5
}