{
 "cells": [
  {
   "cell_type": "markdown",
   "id": "9a753b31",
   "metadata": {},
   "source": [
    "```{contents}\n",
    "```\n",
    "\n",
    "## 1K\tApplications of Newton's Laws\n",
    "\n",
    "### 1K10\tDynamic Torque\n",
    "### 1K20\tFriction\n",
    "### 1K30\tPressure"
   ]
  }
 ],
 "metadata": {
  "jupytext": {
   "text_representation": {
    "extension": ".md",
    "format_name": "myst",
    "format_version": 0.13,
    "jupytext_version": "1.11.5"
   }
  },
  "kernelspec": {
   "display_name": "Python 3",
   "language": "python",
   "name": "python3"
  },
  "source_map": [
   12
  ]
 },
 "nbformat": 4,
 "nbformat_minor": 5
}