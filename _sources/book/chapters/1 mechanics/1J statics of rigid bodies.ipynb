{
 "cells": [
  {
   "cell_type": "markdown",
   "id": "0fecf127",
   "metadata": {},
   "source": [
    "```{contents}\n",
    "```\n",
    "\n",
    "## 1J\tStatics of Rigid Bodies\n",
    "\n",
    "### 1J10\tFinding Center of Gravity\n",
    "### 1J11\tExceeding Center of Gravity\n",
    "### 1J20\tStable, Unstable and Neutral Equilibrium\n",
    "### 1J30\tResolution of Forces\n",
    "### 1J40\tStatic Torque"
   ]
  }
 ],
 "metadata": {
  "jupytext": {
   "text_representation": {
    "extension": ".md",
    "format_name": "myst",
    "format_version": 0.13,
    "jupytext_version": "1.11.5"
   }
  },
  "kernelspec": {
   "display_name": "Python 3",
   "language": "python",
   "name": "python3"
  },
  "source_map": [
   12
  ]
 },
 "nbformat": 4,
 "nbformat_minor": 5
}