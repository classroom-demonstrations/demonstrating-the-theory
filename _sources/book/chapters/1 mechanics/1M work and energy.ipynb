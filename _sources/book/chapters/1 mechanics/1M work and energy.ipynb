{
 "cells": [
  {
   "cell_type": "markdown",
   "id": "4dd3ce64",
   "metadata": {},
   "source": [
    "```{contents}\n",
    "```\n",
    "\n",
    "## 1M\tWork and Energy\n",
    "\n",
    "### 1M10\tWork\n",
    "### 1M20\tSimple Machines\n",
    "### 1M30\tNon-Conservative Forces\n",
    "### 1M40\tConservation of Energy\n",
    "### 1M50\tMechanical Power"
   ]
  }
 ],
 "metadata": {
  "jupytext": {
   "text_representation": {
    "extension": ".md",
    "format_name": "myst",
    "format_version": 0.13,
    "jupytext_version": "1.11.5"
   }
  },
  "kernelspec": {
   "display_name": "Python 3",
   "language": "python",
   "name": "python3"
  },
  "source_map": [
   12
  ]
 },
 "nbformat": 4,
 "nbformat_minor": 5
}