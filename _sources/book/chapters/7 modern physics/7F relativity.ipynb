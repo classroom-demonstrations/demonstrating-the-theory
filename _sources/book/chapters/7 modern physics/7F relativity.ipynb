{
 "cells": [
  {
   "cell_type": "markdown",
   "id": "d511af3b",
   "metadata": {},
   "source": [
    "```{contents}\n",
    "```\n",
    "\n",
    "## 7F\tRelativity\n",
    "\n",
    "### 7F10\tSpecial Relativity\n",
    "### 7F20\tGeneral Relativity"
   ]
  }
 ],
 "metadata": {
  "jupytext": {
   "text_representation": {
    "extension": ".md",
    "format_name": "myst",
    "format_version": 0.13,
    "jupytext_version": "1.11.5"
   }
  },
  "kernelspec": {
   "display_name": "Python 3",
   "language": "python",
   "name": "python3"
  },
  "source_map": [
   12
  ]
 },
 "nbformat": 4,
 "nbformat_minor": 5
}