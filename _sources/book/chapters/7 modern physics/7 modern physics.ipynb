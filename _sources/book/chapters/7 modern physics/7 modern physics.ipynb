{
 "cells": [
  {
   "cell_type": "markdown",
   "id": "37554396",
   "metadata": {},
   "source": [
    "```{contents}\n",
    "```\n",
    "\n",
    "# 7. Modern Physics\n",
    "\n",
    "Whether you write your book's content in Jupyter Notebooks (`.ipynb`) or\n",
    "in regular markdown files (`.md`), you'll write in the same flavor of markdown\n",
    "called **MyST Markdown**.\n",
    "\n",
    "## 7A\tQuantum Effects\n",
    "## 7B\tAtomic Physics\n",
    "## 7D\tNuclear Physics\n",
    "## 7E\tElementary Particles\n",
    "## 7F\tRelativity"
   ]
  }
 ],
 "metadata": {
  "jupytext": {
   "text_representation": {
    "extension": ".md",
    "format_name": "myst",
    "format_version": 0.13,
    "jupytext_version": "1.11.5"
   }
  },
  "kernelspec": {
   "display_name": "Python 3",
   "language": "python",
   "name": "python3"
  },
  "source_map": [
   12
  ]
 },
 "nbformat": 4,
 "nbformat_minor": 5
}