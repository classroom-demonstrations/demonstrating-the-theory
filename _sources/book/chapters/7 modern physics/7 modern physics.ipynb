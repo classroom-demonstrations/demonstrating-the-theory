{
 "cells": [
  {
   "cell_type": "markdown",
   "id": "bcefa9ce",
   "metadata": {},
   "source": [
    "```{contents}\n",
    "```\n",
    "\n",
    "# 7. Modern Physics\n",
    "\n",
    "Whether you write your book's content in Jupyter Notebooks (`.ipynb`) or\n",
    "in regular markdown files (`.md`), you'll write in the same flavor of markdown\n",
    "called **MyST Markdown**.\n",
    "\n",
    "## 7A\tQuantum Effects\n",
    "### 7A10\tPhotoelectric Effect\n",
    "### 7A15\tMillikan Oil Drop\n",
    "### 7A20\tCompton Effect\n",
    "### 7A50\tWave Mechanics\n",
    "### 7A55\tParticle/Wave Duality\n",
    "### 7A60\tX-ray and Electron Diffraction\n",
    "### 7A70\tCondensed Matter\n",
    "\t\n",
    "## 7B\tAtomic Physics\n",
    "### 7B10\tSpectra\n",
    "### 7B11\tAbsorption\n",
    "### 7B13\tResonance Radiation\n",
    "### 7B20\tFine splitting\n",
    "### 7B30\tIonization Potential\n",
    "### 7B35\tElectron Properties\n",
    "### 7B50\tAtomic Models\n",
    "\t\n",
    "## 7D\tNuclear Physics\n",
    "### 7D10\tRadioactivity\n",
    "### 7D20\tNuclear Reactions\n",
    "### 7D30\tParticle Detectors\n",
    "### 7D40\tNuclear Magnetic Resonance (NMR)\n",
    "### 7D50\tModels of the Nucleus\n",
    "\t\n",
    "## 7E\tElementary Particles\n",
    "### 7E10\tMiscellaneous\n",
    "\t\n",
    "## 7F\tRelativity\n",
    "### 7F10\tSpecial Relativity\n",
    "### 7F20\tGeneral Relativity"
   ]
  }
 ],
 "metadata": {
  "jupytext": {
   "text_representation": {
    "extension": ".md",
    "format_name": "myst",
    "format_version": 0.13,
    "jupytext_version": "1.11.5"
   }
  },
  "kernelspec": {
   "display_name": "Python 3",
   "language": "python",
   "name": "python3"
  },
  "source_map": [
   12
  ]
 },
 "nbformat": 4,
 "nbformat_minor": 5
}