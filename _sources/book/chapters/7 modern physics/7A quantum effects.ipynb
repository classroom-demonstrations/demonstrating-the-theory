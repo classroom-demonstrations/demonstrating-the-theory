{
 "cells": [
  {
   "cell_type": "markdown",
   "id": "a00fe0cb",
   "metadata": {},
   "source": [
    "```{contents}\n",
    "```\n",
    "\n",
    "## 7A\tQuantum Effects\n",
    "\n",
    "### 7A10\tPhotoelectric Effect\n",
    "### 7A15\tMillikan Oil Drop\n",
    "### 7A20\tCompton Effect\n",
    "### 7A50\tWave Mechanics\n",
    "### 7A55\tParticle/Wave Duality\n",
    "### 7A60\tX-ray and Electron Diffraction\n",
    "### 7A70\tCondensed Matter"
   ]
  }
 ],
 "metadata": {
  "jupytext": {
   "text_representation": {
    "extension": ".md",
    "format_name": "myst",
    "format_version": 0.13,
    "jupytext_version": "1.11.5"
   }
  },
  "kernelspec": {
   "display_name": "Python 3",
   "language": "python",
   "name": "python3"
  },
  "source_map": [
   12
  ]
 },
 "nbformat": 4,
 "nbformat_minor": 5
}