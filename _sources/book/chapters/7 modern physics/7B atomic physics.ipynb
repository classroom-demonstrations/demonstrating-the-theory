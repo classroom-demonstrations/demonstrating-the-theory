{
 "cells": [
  {
   "cell_type": "markdown",
   "id": "32886fff",
   "metadata": {},
   "source": [
    "```{contents}\n",
    "```\n",
    "\n",
    "## 7B\tAtomic Physics\n",
    "\n",
    "### 7B10\tSpectra\n",
    "### 7B11\tAbsorption\n",
    "### 7B13\tResonance Radiation\n",
    "### 7B20\tFine splitting\n",
    "### 7B30\tIonization Potential\n",
    "### 7B35\tElectron Properties\n",
    "### 7B50\tAtomic Models"
   ]
  }
 ],
 "metadata": {
  "jupytext": {
   "text_representation": {
    "extension": ".md",
    "format_name": "myst",
    "format_version": 0.13,
    "jupytext_version": "1.11.5"
   }
  },
  "kernelspec": {
   "display_name": "Python 3",
   "language": "python",
   "name": "python3"
  },
  "source_map": [
   12
  ]
 },
 "nbformat": 4,
 "nbformat_minor": 5
}