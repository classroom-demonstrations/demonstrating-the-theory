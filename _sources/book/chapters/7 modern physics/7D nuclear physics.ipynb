{
 "cells": [
  {
   "cell_type": "markdown",
   "id": "6b706bf8",
   "metadata": {},
   "source": [
    "```{contents}\n",
    "```\n",
    "\n",
    "## 7D\tNuclear Physics\n",
    "\n",
    "### 7D10\tRadioactivity\n",
    "### 7D20\tNuclear Reactions\n",
    "### 7D30\tParticle Detectors\n",
    "### 7D40\tNuclear Magnetic Resonance (NMR)\n",
    "### 7D50\tModels of the Nucleus"
   ]
  }
 ],
 "metadata": {
  "jupytext": {
   "text_representation": {
    "extension": ".md",
    "format_name": "myst",
    "format_version": 0.13,
    "jupytext_version": "1.11.5"
   }
  },
  "kernelspec": {
   "display_name": "Python 3",
   "language": "python",
   "name": "python3"
  },
  "source_map": [
   12
  ]
 },
 "nbformat": 4,
 "nbformat_minor": 5
}