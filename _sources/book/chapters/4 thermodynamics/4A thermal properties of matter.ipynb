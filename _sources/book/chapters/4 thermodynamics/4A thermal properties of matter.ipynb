{
 "cells": [
  {
   "cell_type": "markdown",
   "id": "56da0903",
   "metadata": {},
   "source": [
    "```{contents}\n",
    "```\n",
    "\n",
    "## 4A\tThermal Properties of Matter\n",
    "\n",
    "### 4A10\tThermometry\n",
    "### 4A20\tLiquid Expansion\n",
    "### 4A30\tSolid Expansion\n",
    "### 4A40\tProperties of Materials at Low Temperature\n",
    "### 4A50\tLiquid Helium"
   ]
  }
 ],
 "metadata": {
  "jupytext": {
   "text_representation": {
    "extension": ".md",
    "format_name": "myst",
    "format_version": 0.13,
    "jupytext_version": "1.11.5"
   }
  },
  "kernelspec": {
   "display_name": "Python 3",
   "language": "python",
   "name": "python3"
  },
  "source_map": [
   12
  ]
 },
 "nbformat": 4,
 "nbformat_minor": 5
}