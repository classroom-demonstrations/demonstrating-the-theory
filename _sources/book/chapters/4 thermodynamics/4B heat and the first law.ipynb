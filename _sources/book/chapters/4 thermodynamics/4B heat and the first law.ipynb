{
 "cells": [
  {
   "cell_type": "markdown",
   "id": "0fd085c7",
   "metadata": {},
   "source": [
    "```{contents}\n",
    "```\n",
    "\n",
    "## 4B\tHeat and the First Law\n",
    "\n",
    "### 4B10\tHeat Capacity and Specific Heat\n",
    "### 4B20\tConvection\n",
    "### 4B30\tConduction\n",
    "### 4B40\tRadiation\n",
    "### 4B50\tHeat Transfer Applications\n",
    "### 4B60\tMechanical Equivalent of Heat\n",
    "### 4B70\tAdiabatic Processes"
   ]
  }
 ],
 "metadata": {
  "jupytext": {
   "text_representation": {
    "extension": ".md",
    "format_name": "myst",
    "format_version": 0.13,
    "jupytext_version": "1.11.5"
   }
  },
  "kernelspec": {
   "display_name": "Python 3",
   "language": "python",
   "name": "python3"
  },
  "source_map": [
   12
  ]
 },
 "nbformat": 4,
 "nbformat_minor": 5
}