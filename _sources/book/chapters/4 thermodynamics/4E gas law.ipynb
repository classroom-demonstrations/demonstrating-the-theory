{
 "cells": [
  {
   "cell_type": "markdown",
   "id": "d5e66849",
   "metadata": {},
   "source": [
    "```{contents}\n",
    "```\n",
    "\n",
    "## 4E\tGas Law\n",
    "\n",
    "### 4E10\tConstant Pressure\n",
    "### 4E20\tConstant Temperature\n",
    "### 4E30\tConstant Volume"
   ]
  }
 ],
 "metadata": {
  "jupytext": {
   "text_representation": {
    "extension": ".md",
    "format_name": "myst",
    "format_version": 0.13,
    "jupytext_version": "1.11.5"
   }
  },
  "kernelspec": {
   "display_name": "Python 3",
   "language": "python",
   "name": "python3"
  },
  "source_map": [
   12
  ]
 },
 "nbformat": 4,
 "nbformat_minor": 5
}