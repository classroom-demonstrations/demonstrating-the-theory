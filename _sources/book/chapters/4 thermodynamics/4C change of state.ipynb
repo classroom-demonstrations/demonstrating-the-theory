{
 "cells": [
  {
   "cell_type": "markdown",
   "id": "e7ce1202",
   "metadata": {},
   "source": [
    "```{contents}\n",
    "```\n",
    "\n",
    "## 4C\tChange of State\n",
    "\n",
    "### 4C10\tPVT Surfaces\n",
    "### 4C20\tPhase Changes: Liquid-Solid\n",
    "### 4C30\tPhase Changes: Liquid-Gas\n",
    "### 4C31\tCooling by Evaporation\n",
    "### 4C32\tDew Point and Humidity\n",
    "### 4C33\tVapor Pressure\n",
    "### 4C40\tSublimation\n",
    "### 4C45\tPhase Changes: Solid - Solid\n",
    "### 4C50\tCritical Point"
   ]
  }
 ],
 "metadata": {
  "jupytext": {
   "text_representation": {
    "extension": ".md",
    "format_name": "myst",
    "format_version": 0.13,
    "jupytext_version": "1.11.5"
   }
  },
  "kernelspec": {
   "display_name": "Python 3",
   "language": "python",
   "name": "python3"
  },
  "source_map": [
   12
  ]
 },
 "nbformat": 4,
 "nbformat_minor": 5
}