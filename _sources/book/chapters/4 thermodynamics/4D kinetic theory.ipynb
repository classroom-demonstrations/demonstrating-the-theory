{
 "cells": [
  {
   "cell_type": "markdown",
   "id": "c8548676",
   "metadata": {},
   "source": [
    "```{contents}\n",
    "```\n",
    "\n",
    "## 4D\tKinetic Theory\n",
    "\n",
    "### 4D10\tBrownian Motion\n",
    "### 4D20\tMean Free Path\n",
    "### 4D30\tKinetic Motion\n",
    "### 4D40\tMolecular Dimensions\n",
    "### 4D50\tDiffusion & Osmosis"
   ]
  }
 ],
 "metadata": {
  "jupytext": {
   "text_representation": {
    "extension": ".md",
    "format_name": "myst",
    "format_version": 0.13,
    "jupytext_version": "1.11.5"
   }
  },
  "kernelspec": {
   "display_name": "Python 3",
   "language": "python",
   "name": "python3"
  },
  "source_map": [
   12
  ]
 },
 "nbformat": 4,
 "nbformat_minor": 5
}