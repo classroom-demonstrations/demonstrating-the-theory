{
 "cells": [
  {
   "cell_type": "markdown",
   "id": "a23c91d2",
   "metadata": {},
   "source": [
    "```{contents}\n",
    "```\n",
    "\n",
    "# 4. Thermodynamics\n",
    "\n",
    "Whether you write your book's content in Jupyter Notebooks (`.ipynb`) or\n",
    "in regular markdown files (`.md`), you'll write in the same flavor of markdown\n",
    "called **MyST Markdown**.\n",
    "\n",
    "## 4A\tThermal Properties of Matter\n",
    "## 4B\tHeat and the First Law\n",
    "## 4C\tChange of State\n",
    "## 4D\tKinetic Theory\n",
    "## 4E\tGas Law\n",
    "## 4F\tEntropy and the Second Law"
   ]
  }
 ],
 "metadata": {
  "jupytext": {
   "text_representation": {
    "extension": ".md",
    "format_name": "myst",
    "format_version": 0.13,
    "jupytext_version": "1.11.5"
   }
  },
  "kernelspec": {
   "display_name": "Python 3",
   "language": "python",
   "name": "python3"
  },
  "source_map": [
   12
  ]
 },
 "nbformat": 4,
 "nbformat_minor": 5
}