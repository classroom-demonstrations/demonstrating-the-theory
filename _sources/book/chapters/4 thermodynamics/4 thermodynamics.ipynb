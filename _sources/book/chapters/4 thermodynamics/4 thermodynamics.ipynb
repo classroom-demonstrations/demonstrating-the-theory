{
 "cells": [
  {
   "cell_type": "markdown",
   "id": "8574a09f",
   "metadata": {},
   "source": [
    "```{contents}\n",
    "```\n",
    "\n",
    "# 4. Thermodynamics\n",
    "\n",
    "Whether you write your book's content in Jupyter Notebooks (`.ipynb`) or\n",
    "in regular markdown files (`.md`), you'll write in the same flavor of markdown\n",
    "called **MyST Markdown**.\n",
    "\n",
    "## 4A\tThermal Properties of Matter\n",
    "### 4A10\tThermometry\n",
    "### 4A20\tLiquid Expansion\n",
    "### 4A30\tSolid Expansion\n",
    "### 4A40\tProperties of Materials at Low Temperature\n",
    "### 4A50\tLiquid Helium\n",
    "\t\n",
    "## 4B\tHeat and the First Law\n",
    "### 4B10\tHeat Capacity and Specific Heat\n",
    "### 4B20\tConvection\n",
    "### 4B30\tConduction\n",
    "### 4B40\tRadiation\n",
    "### 4B50\tHeat Transfer Applications\n",
    "### 4B60\tMechanical Equivalent of Heat\n",
    "### 4B70\tAdiabatic Processes\n",
    "\t\n",
    "## 4C\tChange of State\n",
    "### 4C10\tPVT Surfaces\n",
    "### 4C20\tPhase Changes: Liquid-Solid\n",
    "### 4C30\tPhase Changes: Liquid-Gas\n",
    "### 4C31\tCooling by Evaporation\n",
    "### 4C32\tDew Point and Humidity\n",
    "### 4C33\tVapor Pressure\n",
    "### 4C40\tSublimation\n",
    "### 4C45\tPhase Changes: Solid - Solid\n",
    "### 4C50\tCritical Point\n",
    "\t\n",
    "## 4D\tKinetic Theory\n",
    "### 4D10\tBrownian Motion\n",
    "### 4D20\tMean Free Path\n",
    "### 4D30\tKinetic Motion\n",
    "### 4D40\tMolecular Dimensions\n",
    "### 4D50\tDiffusion & Osmosis\n",
    "\t\n",
    "## 4E\tGas Law\n",
    "### 4E10\tConstant Pressure\n",
    "### 4E20\tConstant Temperature\n",
    "### 4E30\tConstant Volume\n",
    "\t\n",
    "## 4F\tEntropy and the Second Law\n",
    "### 4F10\tEntropy\n",
    "### 4F30\tHeat Cycles"
   ]
  }
 ],
 "metadata": {
  "jupytext": {
   "text_representation": {
    "extension": ".md",
    "format_name": "myst",
    "format_version": 0.13,
    "jupytext_version": "1.11.5"
   }
  },
  "kernelspec": {
   "display_name": "Python 3",
   "language": "python",
   "name": "python3"
  },
  "source_map": [
   12
  ]
 },
 "nbformat": 4,
 "nbformat_minor": 5
}