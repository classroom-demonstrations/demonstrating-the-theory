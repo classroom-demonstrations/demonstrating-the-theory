{
 "cells": [
  {
   "cell_type": "markdown",
   "id": "273bda71",
   "metadata": {},
   "source": [
    "```{contents}\n",
    "```\n",
    "\n",
    "# 3. Oscillations and Waves\n",
    "\n",
    "Whether you write your book's content in Jupyter Notebooks (`.ipynb`) or\n",
    "in regular markdown files (`.md`), you'll write in the same flavor of markdown\n",
    "called **MyST Markdown**.\n",
    "\n",
    "## 3A\tOscillations\n",
    "### 3A10\tPendula\n",
    "### 3A15\tPhysical Pendula\n",
    "### 3A20\tSprings & Oscillators\n",
    "### 3A40\tSimple Harmonic Motion\n",
    "### 3A50\tDamped Oscillators\n",
    "### 3A60\tDriven Mechanical Resonance\n",
    "### 3A70\tCoupled Oscillations\n",
    "### 3A75\tNormal Modes\n",
    "### 3A80\tLissajous Figures\n",
    "### 3A95\tNon-Linear Systems\n",
    "\t\n",
    "## 3B\tWave Motion\n",
    "### 3B10\tTransverse Pulses and Waves\n",
    "### 3B20\tLongitudinal Pulses and Waves\n",
    "### 3B22\tStanding Waves\n",
    "### 3B25\tImpedence and Dispersion\n",
    "### 3B27\tCompound Waves\n",
    "### 3B30\tWave Properties of Sound\n",
    "### 3B33\tPhase and Group Velocity\n",
    "### 3B35\tReflection & Refraction (Sound)\n",
    "### 3B39\tTransfer of Energy in Waves\n",
    "### 3B40\tDoppler Effect\n",
    "### 3B45\tShock Waves\n",
    "### 3B50\tInterference and Diffraction\n",
    "### 3B55\tInterference AND Diffraction Of Sound\n",
    "### 3B60\tBeats\n",
    "### 3B70\tCoupled Resonators\n",
    "\t\n",
    "## 3C\tAcoustics\n",
    "### 3C10\tThe Ear\n",
    "### 3C20\tPitch\n",
    "### 3C30\tIntensity and Attenuation\n",
    "### 3C40\tArchitectural Acoustics\n",
    "### 3C50\tWave Analysis and Synthesis\n",
    "### 3C55\tMusic Perception and the Voice\n",
    "\t\n",
    "## 3D\tInstruments\n",
    "### 3D20\tResonance in Strings\n",
    "### 3D22\tStringed Instruments\n",
    "### 3D30\tResonance Cavities\n",
    "### 3D32\tAir Column Instruments\n",
    "### 3D40\tResonance in Plates, Bars, Solids\n",
    "### 3D46\tTuning Forks\n",
    "### 3D50\tElectronic Instruments\n",
    "\t\n",
    "## 3E\tSound Reproduction\n",
    "### 3E10\tAudio System\n",
    "### 3E20\tLoudspeakers\n",
    "### 3E30\tMicrophones\n",
    "### 3E40\tAmplifiers\n",
    "### 3E60\tRecorders\n",
    "### 3E80\tDigital System"
   ]
  }
 ],
 "metadata": {
  "jupytext": {
   "text_representation": {
    "extension": ".md",
    "format_name": "myst",
    "format_version": 0.13,
    "jupytext_version": "1.11.5"
   }
  },
  "kernelspec": {
   "display_name": "Python 3",
   "language": "python",
   "name": "python3"
  },
  "source_map": [
   12
  ]
 },
 "nbformat": 4,
 "nbformat_minor": 5
}