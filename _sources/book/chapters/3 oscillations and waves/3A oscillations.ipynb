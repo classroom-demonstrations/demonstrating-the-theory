{
 "cells": [
  {
   "cell_type": "markdown",
   "id": "9304b1e0",
   "metadata": {},
   "source": [
    "```{contents}\n",
    "```\n",
    "\n",
    "## 3A\tOscillations\n",
    "\n",
    "### 3A10\tPendula\n",
    "### 3A15\tPhysical Pendula\n",
    "### 3A20\tSprings & Oscillators\n",
    "### 3A40\tSimple Harmonic Motion\n",
    "### 3A50\tDamped Oscillators\n",
    "### 3A60\tDriven Mechanical Resonance\n",
    "### 3A70\tCoupled Oscillations\n",
    "### 3A75\tNormal Modes\n",
    "### 3A80\tLissajous Figures\n",
    "### 3A95\tNon-Linear Systems"
   ]
  }
 ],
 "metadata": {
  "jupytext": {
   "text_representation": {
    "extension": ".md",
    "format_name": "myst",
    "format_version": 0.13,
    "jupytext_version": "1.11.5"
   }
  },
  "kernelspec": {
   "display_name": "Python 3",
   "language": "python",
   "name": "python3"
  },
  "source_map": [
   12
  ]
 },
 "nbformat": 4,
 "nbformat_minor": 5
}