{
 "cells": [
  {
   "cell_type": "markdown",
   "id": "82814aa8",
   "metadata": {},
   "source": [
    "```{contents}\n",
    "```\n",
    "\n",
    "## 3D\tInstruments\n",
    "\n",
    "### 3D20\tResonance in Strings\n",
    "### 3D22\tStringed Instruments\n",
    "### 3D30\tResonance Cavities\n",
    "### 3D32\tAir Column Instruments\n",
    "### 3D40\tResonance in Plates, Bars, Solids\n",
    "### 3D46\tTuning Forks\n",
    "### 3D50\tElectronic Instruments"
   ]
  }
 ],
 "metadata": {
  "jupytext": {
   "text_representation": {
    "extension": ".md",
    "format_name": "myst",
    "format_version": 0.13,
    "jupytext_version": "1.11.5"
   }
  },
  "kernelspec": {
   "display_name": "Python 3",
   "language": "python",
   "name": "python3"
  },
  "source_map": [
   12
  ]
 },
 "nbformat": 4,
 "nbformat_minor": 5
}