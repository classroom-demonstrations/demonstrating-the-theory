{
 "cells": [
  {
   "cell_type": "markdown",
   "id": "121ad512",
   "metadata": {},
   "source": [
    "```{contents}\n",
    "```\n",
    "\n",
    "## 3B\tWave Motion\n",
    "\n",
    "### 3B10\tTransverse Pulses and Waves\n",
    "### 3B20\tLongitudinal Pulses and Waves\n",
    "### 3B22\tStanding Waves\n",
    "### 3B25\tImpedence and Dispersion\n",
    "### 3B27\tCompound Waves\n",
    "### 3B30\tWave Properties of Sound\n",
    "### 3B33\tPhase and Group Velocity\n",
    "### 3B35\tReflection & Refraction (Sound)\n",
    "### 3B39\tTransfer of Energy in Waves\n",
    "### 3B40\tDoppler Effect\n",
    "### 3B45\tShock Waves\n",
    "### 3B50\tInterference and Diffraction\n",
    "### 3B55\tInterference AND Diffraction Of Sound\n",
    "### 3B60\tBeats\n",
    "### 3B70\tCoupled Resonators"
   ]
  }
 ],
 "metadata": {
  "jupytext": {
   "text_representation": {
    "extension": ".md",
    "format_name": "myst",
    "format_version": 0.13,
    "jupytext_version": "1.11.5"
   }
  },
  "kernelspec": {
   "display_name": "Python 3",
   "language": "python",
   "name": "python3"
  },
  "source_map": [
   12
  ]
 },
 "nbformat": 4,
 "nbformat_minor": 5
}