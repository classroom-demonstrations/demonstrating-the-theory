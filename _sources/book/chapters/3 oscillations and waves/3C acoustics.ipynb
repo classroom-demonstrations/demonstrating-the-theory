{
 "cells": [
  {
   "cell_type": "markdown",
   "id": "73762298",
   "metadata": {},
   "source": [
    "```{contents}\n",
    "```\n",
    "\n",
    "## 3C\tAcoustics\n",
    "\n",
    "### 3C10\tThe Ear\n",
    "### 3C20\tPitch\n",
    "### 3C30\tIntensity and Attenuation\n",
    "### 3C40\tArchitectural Acoustics\n",
    "### 3C50\tWave Analysis and Synthesis\n",
    "### 3C55\tMusic Perception and the Voice"
   ]
  }
 ],
 "metadata": {
  "jupytext": {
   "text_representation": {
    "extension": ".md",
    "format_name": "myst",
    "format_version": 0.13,
    "jupytext_version": "1.11.5"
   }
  },
  "kernelspec": {
   "display_name": "Python 3",
   "language": "python",
   "name": "python3"
  },
  "source_map": [
   12
  ]
 },
 "nbformat": 4,
 "nbformat_minor": 5
}