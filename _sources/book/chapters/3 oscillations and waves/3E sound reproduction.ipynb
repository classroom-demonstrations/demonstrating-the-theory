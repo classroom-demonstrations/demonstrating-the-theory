{
 "cells": [
  {
   "cell_type": "markdown",
   "id": "d944b7f8",
   "metadata": {},
   "source": [
    "```{contents}\n",
    "```\n",
    "\n",
    "## 3E\tSound Reproduction\n",
    "\n",
    "### 3E10\tAudio System\n",
    "### 3E20\tLoudspeakers\n",
    "### 3E30\tMicrophones\n",
    "### 3E40\tAmplifiers\n",
    "### 3E60\tRecorders\n",
    "### 3E80\tDigital System"
   ]
  }
 ],
 "metadata": {
  "jupytext": {
   "text_representation": {
    "extension": ".md",
    "format_name": "myst",
    "format_version": 0.13,
    "jupytext_version": "1.11.5"
   }
  },
  "kernelspec": {
   "display_name": "Python 3",
   "language": "python",
   "name": "python3"
  },
  "source_map": [
   12
  ]
 },
 "nbformat": 4,
 "nbformat_minor": 5
}