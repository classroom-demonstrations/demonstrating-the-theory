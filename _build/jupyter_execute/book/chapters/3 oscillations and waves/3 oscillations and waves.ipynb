{
 "cells": [
  {
   "cell_type": "markdown",
   "id": "86f172d7",
   "metadata": {},
   "source": [
    "```{contents}\n",
    "```\n",
    "\n",
    "# 3. Oscillations and Waves\n",
    "\n",
    "Whether you write your book's content in Jupyter Notebooks (`.ipynb`) or\n",
    "in regular markdown files (`.md`), you'll write in the same flavor of markdown\n",
    "called **MyST Markdown**.\n",
    "\n",
    "## 3A\tOscillations\n",
    "## 3B\tWave Motion\n",
    "## 3C\tAcoustics\n",
    "## 3D\tInstruments\n",
    "## 3E\tSound Reproduction"
   ]
  }
 ],
 "metadata": {
  "jupytext": {
   "text_representation": {
    "extension": ".md",
    "format_name": "myst",
    "format_version": 0.13,
    "jupytext_version": "1.11.5"
   }
  },
  "kernelspec": {
   "display_name": "Python 3",
   "language": "python",
   "name": "python3"
  },
  "source_map": [
   12
  ]
 },
 "nbformat": 4,
 "nbformat_minor": 5
}